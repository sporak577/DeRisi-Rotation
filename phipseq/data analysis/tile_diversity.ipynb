{
 "cells": [
  {
   "cell_type": "markdown",
   "id": "34248ffa",
   "metadata": {},
   "source": [
    "Author: Sophie-Christine Porak / ChatGPT\n",
    "\n",
    "This script will count the number of tiles per protein segment therefore serving as an estimate of overall diversity at different protein regions. \n",
    "The absolute tile counts are being represented as a plot, where on the x-axis we have the position of the protein (amino acid position) and on the \n",
    "y-axis we have the absolute count of tiles for that position.\n",
    "\n",
    "As the input is a nucleotide sequence, it needs to be translated to represent the amino acid sequence (or just divide by 3, I also know that each tile\n",
    "represents 46 amino acids)."
   ]
  },
  {
   "cell_type": "code",
   "execution_count": null,
   "id": "ce087412",
   "metadata": {},
   "outputs": [],
   "source": [
    "from Bio import SeqIO\n",
    "from Bio import Entrez\n",
    "from collections import defaultdict\n",
    "import re\n",
    "\n",
    "Entrez.email = \"sophie.porak@ucsf.edu\" #required for ncbi access\n",
    "\n",
    "fasta_file = \"input fasta file\"\n",
    "\n",
    "#create a dictionary {(protein, organism): {tile_position: count}}\n",
    "tile_counts = defaultdict(lambda: defaultdict(int))\n",
    "\n",
    "#store lookup results to avoid redundant API calls \n",
    "accession_lookup = {}\n",
    "\n",
    "#function to fetch protein name and organism from NCBI\n",
    "def fetch_info(accession):\n",
    "    if accession in accession_lookup:\n",
    "        return accession_lookup[accession]\n",
    "\n",
    "    try: \n",
    "        handle = Entrez.efetch(db=\"nucleotide\", id=accession, rettype=\"gb\", retmode=\"text\")\n",
    "        record = SeqIO.read(handle, \"genbank\")\n",
    "        handle.close()\n",
    "\n",
    "        organism = record.annotations[\"organism\"]\n",
    "        protein_name = \"unknown\"\n",
    "        for feature in record.features:\n",
    "            if feature.type == \"CDS\":\n",
    "                protein_name = feature.qualifiers.get(\"product\", [\"unknown\"])[0]\n",
    "                break\n",
    "        \n",
    "        accession_lookup[accession] == (protein_name, organism)\n",
    "        return protein_name, organism\n",
    "    except Exception as e:\n",
    "        print(f\"Failed to fetch {accession}: {e}\")\n",
    "        return \"unknown\", \"unknown\"\n",
    "    \n",
    "# parse the FASTA headers\n",
    "with open(fasta_file) as f:\n",
    "    for line in f:\n",
    "        if not line.startswith(\">\"):\n",
    "            continue \n",
    "    \n",
    "        #example header >WFG38034.1_1_1\n",
    "        header = line.strip()[1:].split()[0] #get first field only\n",
    "        match = re.match(r\"([A-Z0-9.]+)_(\\d+)_(\\d+)\", header)\n",
    "        if not match:\n",
    "            print(f\"Skipped header: {header}\")\n",
    "            continue\n",
    "\n",
    "        accession, tile_pos, _ = match.groups()\n",
    "        tile_pos = int(tile_pos)\n",
    "\n",
    "        protein_name, organism = fetch_info(accession)\n",
    "        tile_counts[(protein_name, organism)][tile_pos] += 1 \n",
    "\n",
    "#print results\n",
    "for (protein, organism), positions in tile_counts.items():\n",
    "    print(f\"\\nProtein: {protein} | Organism: {organism}\")\n",
    "    for pos, count in sorted(positions.items()):\n",
    "        print(f\" Tile Position {pos}: {count} tile(s)\")"
   ]
  },
  {
   "cell_type": "code",
   "execution_count": null,
   "id": "38db7152",
   "metadata": {},
   "outputs": [],
   "source": []
  },
  {
   "cell_type": "code",
   "execution_count": null,
   "id": "aa6bac7a",
   "metadata": {},
   "outputs": [],
   "source": []
  }
 ],
 "metadata": {
  "kernelspec": {
   "display_name": "Python 3",
   "language": "python",
   "name": "python3"
  },
  "language_info": {
   "name": "python",
   "version": "3.12.2"
  }
 },
 "nbformat": 4,
 "nbformat_minor": 5
}
